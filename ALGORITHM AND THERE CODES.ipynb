{
 "cells": [
  {
   "cell_type": "code",
   "execution_count": 2,
   "metadata": {},
   "outputs": [],
   "source": [
    "from IPython.display import YouTubeVideo\n",
    "from collections import OrderedDict\n"
   ]
  },
  {
   "cell_type": "markdown",
   "metadata": {},
   "source": [
    "##  KADANE'S ALGO\n",
    "\n",
    "\n",
    "This algorithm is used to find maximum contagious subarray in given array"
   ]
  },
  {
   "cell_type": "code",
   "execution_count": 2,
   "metadata": {},
   "outputs": [
    {
     "data": {
      "image/jpeg": "[encoded data removed]",
      "text/html": [
       "\n",
       "        <iframe\n",
       "            width=\"700\"\n",
       "            height=\"400\"\n",
       "            src=\"https://www.youtube.com/embed/86CQq3pKSUw\"\n",
       "            frameborder=\"0\"\n",
       "            allowfullscreen\n",
       "        ></iframe>\n",
       "        "
      ],
      "text/plain": [
       "<IPython.lib.display.YouTubeVideo at 0x1d90d798ac8>"
      ]
     },
     "execution_count": 2,
     "metadata": {},
     "output_type": "execute_result"
    }
   ],
   "source": [
    "YouTubeVideo('86CQq3pKSUw' ,width=700 ,height=400)"
   ]
  },
  {
   "cell_type": "code",
   "execution_count": 127,
   "metadata": {},
   "outputs": [],
   "source": [
    "def kadane(a):\n",
    "    \n",
    "    \"\"\"This function will take an array as input and will return \n",
    "    maximum sum of contigious subarray in given array\"\"\"\n",
    "    \n",
    "    max_current = max_global = a[0]  # we've initialize maximum global and maximum current to first number of array\n",
    "    j = 0\n",
    "    subarray = []\n",
    "    glob_disc = {0 : a[0]}\n",
    "    for i in range(1 , len(a)):\n",
    "        max_current = max(a[i] , max_current + a[i])\n",
    "        \n",
    "        if max_current > max_global:\n",
    "            max_global = max_current\n",
    "            glob_disc.update({i : max_global})\n",
    "            \n",
    "\n",
    "        \n",
    "    \n",
    "    return max_global , glob_disc\n",
    "         \n",
    "    \n",
    "        \n",
    "        \n",
    "    "
   ]
  },
  {
   "cell_type": "code",
   "execution_count": 128,
   "metadata": {},
   "outputs": [
    {
     "data": {
      "text/plain": [
       "7"
      ]
     },
     "metadata": {},
     "output_type": "display_data"
    },
    {
     "data": {
      "text/plain": [
       "{0: -1, 2: 4, 6: 7}"
      ]
     },
     "metadata": {},
     "output_type": "display_data"
    }
   ],
   "source": [
    "l = [-1, -4 , 4 , -2 , 0 ,1 ,4 , -5]\n",
    "\n",
    "display(kadane(l)[0] ,kadane(l)[1])\n"
   ]
  },
  {
   "cell_type": "code",
   "execution_count": 129,
   "metadata": {},
   "outputs": [],
   "source": [
    "a = [4,-3,-2,2 ,3 ,1 ,-2 ,-3 ,4 ,2 ,-6 ,-3 ,-1 ,3 ,1 ,2]"
   ]
  },
  {
   "cell_type": "code",
   "execution_count": 130,
   "metadata": {},
   "outputs": [
    {
     "data": {
      "text/plain": [
       "7"
      ]
     },
     "metadata": {},
     "output_type": "display_data"
    },
    {
     "data": {
      "text/plain": [
       "{0: 4, 4: 5, 5: 6, 9: 7}"
      ]
     },
     "metadata": {},
     "output_type": "display_data"
    }
   ],
   "source": [
    "display(kadane(a)[0] ,kadane(a)[1])"
   ]
  },
  {
   "cell_type": "markdown",
   "metadata": {},
   "source": [
    "## Binary search algorithm"
   ]
  },
  {
   "cell_type": "code",
   "execution_count": 6,
   "metadata": {},
   "outputs": [
    {
     "data": {
      "image/jpeg": "[encoded data removed]",
      "text/html": [
       "\n",
       "        <iframe\n",
       "            width=\"700\"\n",
       "            height=\"400\"\n",
       "            src=\"https://www.youtube.com/embed/j5uXyPJ0Pew\"\n",
       "            frameborder=\"0\"\n",
       "            allowfullscreen\n",
       "        ></iframe>\n",
       "        "
      ],
      "text/plain": [
       "<IPython.lib.display.YouTubeVideo at 0x1a046e301d0>"
      ]
     },
     "execution_count": 6,
     "metadata": {},
     "output_type": "execute_result"
    }
   ],
   "source": [
    "YouTubeVideo('j5uXyPJ0Pew' ,width=700 ,height=400)"
   ]
  },
  {
   "cell_type": "code",
   "execution_count": 222,
   "metadata": {},
   "outputs": [],
   "source": [
    "def binary_search(arr,value):\n",
    "    left = 0\n",
    "    right = len(arr) - 1\n",
    "    while(left <= right):\n",
    "        mid = (left + right) // 2\n",
    "        if arr[mid] is value:\n",
    "            return mid\n",
    "        elif value < arr[mid]:\n",
    "            right = mid - 1\n",
    "        elif value > arr[mid]:\n",
    "            left = mid + 1\n",
    "\n",
    "    return -1\n",
    "\n",
    "        \n",
    "       "
   ]
  },
  {
   "cell_type": "code",
   "execution_count": 228,
   "metadata": {},
   "outputs": [
    {
     "data": {
      "text/plain": [
       "4"
      ]
     },
     "execution_count": 228,
     "metadata": {},
     "output_type": "execute_result"
    }
   ],
   "source": [
    "binary_search([2,24,45,56,89,23468] ,89)"
   ]
  },
  {
   "cell_type": "markdown",
   "metadata": {},
   "source": [
    "# Code to generate permutation of a list\n",
    "\n",
    "one permutation at a time memory efficient"
   ]
  },
  {
   "cell_type": "code",
   "execution_count": 1,
   "metadata": {},
   "outputs": [],
   "source": [
    "def perm(lst):\n",
    "    if len(lst)==0:\n",
    "        yield []\n",
    "        \n",
    "    elif len(lst)==1:\n",
    "        yield lst\n",
    "        \n",
    "    else:\n",
    "        for i in range(len(lst)):\n",
    "            \n",
    "            \n",
    "            x = lst[i]\n",
    "            xs = lst[:i] + lst[i+1:]\n",
    "            for p in perm(xs):\n",
    "                yield [x]+p"
   ]
  },
  {
   "cell_type": "code",
   "execution_count": 2,
   "metadata": {},
   "outputs": [
    {
     "name": "stdout",
     "output_type": "stream",
     "text": [
      "['abc', 'abs', 'a']\n",
      "['abc', 'a', 'abs']\n",
      "['abs', 'abc', 'a']\n",
      "['abs', 'a', 'abc']\n",
      "['a', 'abc', 'abs']\n",
      "['a', 'abs', 'abc']\n"
     ]
    }
   ],
   "source": [
    "for p in perm([\"abc\" , \"abs\" , 'a']):\n",
    "    print(p)"
   ]
  },
  {
   "cell_type": "markdown",
   "metadata": {},
   "source": [
    "## Most efficient algo for GCD"
   ]
  },
  {
   "cell_type": "code",
   "execution_count": 3,
   "metadata": {},
   "outputs": [],
   "source": [
    "def gcd(a ,b):\n",
    "    if b==0:\n",
    "        return a\n",
    "    r = a%b\n",
    "    return gcd(b , r)"
   ]
  },
  {
   "cell_type": "code",
   "execution_count": 4,
   "metadata": {},
   "outputs": [
    {
     "data": {
      "text/plain": [
       "61232"
      ]
     },
     "execution_count": 4,
     "metadata": {},
     "output_type": "execute_result"
    }
   ],
   "source": [
    "gcd(3918848 , 1653264)"
   ]
  },
  {
   "cell_type": "markdown",
   "metadata": {},
   "source": [
    "### To check if number is power of 2 using binary operation"
   ]
  },
  {
   "cell_type": "code",
   "execution_count": 9,
   "metadata": {},
   "outputs": [],
   "source": [
    "def is_power2(n):\n",
    "    \n",
    "    return bool(n and (not (n & n-1)))"
   ]
  },
  {
   "cell_type": "code",
   "execution_count": 10,
   "metadata": {},
   "outputs": [
    {
     "data": {
      "text/plain": [
       "True"
      ]
     },
     "metadata": {},
     "output_type": "display_data"
    },
    {
     "data": {
      "text/plain": [
       "False"
      ]
     },
     "metadata": {},
     "output_type": "display_data"
    }
   ],
   "source": [
    "display(is_power2(32))\n",
    "display(is_power2(29))"
   ]
  },
  {
   "cell_type": "markdown",
   "metadata": {},
   "source": [
    "## TO find longest subsequence in the given array using dynamic programming"
   ]
  },
  {
   "cell_type": "code",
   "execution_count": 11,
   "metadata": {},
   "outputs": [],
   "source": [
    "def longest_subsequence(a):\n",
    "    \"\"\"This will return the longest \n",
    "    subsequence of a given array\n",
    "    and length of the array in form of tuple \n",
    "    (length , longest_array)\"\"\"\n",
    "    \n",
    "    l = len(a)\n",
    "    track = [1]*l\n",
    "    longest_seq = []\n",
    "    for i in range(1,l):\n",
    "        for j in range(i):\n",
    "            if a[j]<a[i]:\n",
    "                track[i]=max(track[i],track[j]+1)\n",
    "                \n",
    "    max_length = max(track)\n",
    "    value = max_length\n",
    "    while value>=1:\n",
    "        ind = (len(track) - 1 - track[::-1].index(value))\n",
    "        longest_seq.append(a[ind])\n",
    "        value-=1\n",
    "        del(track[ind:])\n",
    "    longest_seq.reverse()   \n",
    "    return (max_length ,longest_seq)  "
   ]
  },
  {
   "cell_type": "code",
   "execution_count": 13,
   "metadata": {},
   "outputs": [
    {
     "data": {
      "text/plain": [
       "(6, [1, 2, 3, 6, 55, 65])"
      ]
     },
     "metadata": {},
     "output_type": "display_data"
    },
    {
     "data": {
      "text/plain": [
       "(4, [1, 23, 35, 56])"
      ]
     },
     "metadata": {},
     "output_type": "display_data"
    }
   ],
   "source": [
    "display(longest_subsequence([1,5,6,2,3,8,7,6,2131,55,65,6,6]))\n",
    "display(longest_subsequence([1,45,65,89,23,41,35,6 , 56,21]))"
   ]
  },
  {
   "cell_type": "markdown",
   "metadata": {},
   "source": [
    "## Count number of ones present in a Binary representation of a number"
   ]
  },
  {
   "cell_type": "code",
   "execution_count": 1,
   "metadata": {},
   "outputs": [],
   "source": [
    "def count_one(n):\n",
    "    count = 0\n",
    "    while(n):\n",
    "        n = n&(n-1)\n",
    "        count+=1\n",
    "    return count    \n",
    "    \n",
    "    "
   ]
  },
  {
   "cell_type": "code",
   "execution_count": 8,
   "metadata": {},
   "outputs": [
    {
     "data": {
      "text/plain": [
       "2"
      ]
     },
     "metadata": {},
     "output_type": "display_data"
    },
    {
     "data": {
      "text/plain": [
       "1"
      ]
     },
     "metadata": {},
     "output_type": "display_data"
    },
    {
     "data": {
      "text/plain": [
       "3"
      ]
     },
     "metadata": {},
     "output_type": "display_data"
    }
   ],
   "source": [
    "display(count_one(20))\n",
    "display(count_one(32))\n",
    "display(count_one(56))"
   ]
  },
  {
   "cell_type": "markdown",
   "metadata": {},
   "source": [
    "## To check if ith bit of a number is set or not(Startion from 0)"
   ]
  },
  {
   "cell_type": "code",
   "execution_count": 22,
   "metadata": {},
   "outputs": [],
   "source": [
    "def check(n ,i):\n",
    "    if (n&(1<<i)):\n",
    "        return True\n",
    "    else:\n",
    "        return False"
   ]
  },
  {
   "cell_type": "code",
   "execution_count": 26,
   "metadata": {},
   "outputs": [
    {
     "data": {
      "text/plain": [
       "False"
      ]
     },
     "metadata": {},
     "output_type": "display_data"
    },
    {
     "data": {
      "text/plain": [
       "True"
      ]
     },
     "metadata": {},
     "output_type": "display_data"
    },
    {
     "data": {
      "text/plain": [
       "False"
      ]
     },
     "metadata": {},
     "output_type": "display_data"
    }
   ],
   "source": [
    "display(check(43,2))\n",
    "display(check(43 ,0))   # 43 = 101011\n",
    "display(check(43 ,4))"
   ]
  },
  {
   "cell_type": "code",
   "execution_count": 27,
   "metadata": {},
   "outputs": [
    {
     "data": {
      "text/plain": [
       "'0b101011'"
      ]
     },
     "execution_count": 27,
     "metadata": {},
     "output_type": "execute_result"
    }
   ],
   "source": [
    "bin(43)  ## To convert into BInary"
   ]
  },
  {
   "cell_type": "code",
   "execution_count": 2,
   "metadata": {},
   "outputs": [
    {
     "data": {
      "text/plain": [
       "5"
      ]
     },
     "execution_count": 2,
     "metadata": {},
     "output_type": "execute_result"
    }
   ],
   "source": [
    "import math\n",
    "\n",
    "int(math.log(33,2)) # To find maximum power of 2 in a given number"
   ]
  },
  {
   "cell_type": "code",
   "execution_count": null,
   "metadata": {},
   "outputs": [],
   "source": []
  }
 ],
 "metadata": {
  "kernelspec": {
   "display_name": "Python 3",
   "language": "python",
   "name": "python3"
  },
  "language_info": {
   "codemirror_mode": {
    "name": "ipython",
    "version": 3
   },
   "file_extension": ".py",
   "mimetype": "text/x-python",
   "name": "python",
   "nbconvert_exporter": "python",
   "pygments_lexer": "ipython3",
   "version": "3.6.6"
  }
 },
 "nbformat": 4,
 "nbformat_minor": 2
}
