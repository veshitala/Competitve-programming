{
 "cells": [
  {
   "cell_type": "code",
   "execution_count": null,
   "metadata": {},
   "outputs": [],
   "source": [
    "from IPython.display import YouTubeVideo\n",
    "from collections import OrderedDict\n"
   ]
  },
  {
   "cell_type": "markdown",
   "metadata": {},
   "source": [
    "##  KADANE'S ALGO\n",
    "\n",
    "\n",
    "This algorithm is used to find maximum contagious subarray in given array"
   ]
  },
  {
   "cell_type": "code",
   "execution_count": null,
   "metadata": {},
   "outputs": [],
   "source": [
    "YouTubeVideo('86CQq3pKSUw' ,width=700 ,height=400)"
   ]
  },
  {
   "cell_type": "code",
   "execution_count": null,
   "metadata": {},
   "outputs": [],
   "source": [
    "def kadane(a):\n",
    "    \n",
    "    \"\"\"This function will take an array as input and will return \n",
    "    maximum sum of contigious subarray in given array\"\"\"\n",
    "    \n",
    "    max_current = max_global = a[0]  # we've initialize maximum global and maximum current to first number of array\n",
    "    j = 0\n",
    "    subarray = []\n",
    "    glob_disc = {0 : a[0]}\n",
    "    for i in range(1 , len(a)):\n",
    "        max_current = max(a[i] , max_current + a[i])\n",
    "        \n",
    "        if max_current > max_global:\n",
    "            max_global = max_current\n",
    "            glob_disc.update({i : max_global})\n",
    "            \n",
    "\n",
    "        \n",
    "    \n",
    "    return max_global , glob_disc\n",
    "         \n",
    "    \n",
    "        \n",
    "        \n",
    "    "
   ]
  },
  {
   "cell_type": "code",
   "execution_count": null,
   "metadata": {},
   "outputs": [],
   "source": [
    "l = [-1, -4 , 4 , -2 , 0 ,1 ,4 , -5]\n",
    "\n",
    "display(kadane(l)[0] ,kadane(l)[1])\n"
   ]
  },
  {
   "cell_type": "code",
   "execution_count": null,
   "metadata": {},
   "outputs": [],
   "source": [
    "a = [4,-3,-2,2 ,3 ,1 ,-2 ,-3 ,4 ,2 ,-6 ,-3 ,-1 ,3 ,1 ,2]"
   ]
  },
  {
   "cell_type": "code",
   "execution_count": null,
   "metadata": {},
   "outputs": [],
   "source": [
    "display(kadane(a)[0] ,kadane(a)[1])"
   ]
  },
  {
   "cell_type": "markdown",
   "metadata": {},
   "source": [
    "## Binary search algorithm"
   ]
  },
  {
   "cell_type": "code",
   "execution_count": null,
   "metadata": {},
   "outputs": [],
   "source": [
    "YouTubeVideo('j5uXyPJ0Pew' ,width=700 ,height=400)"
   ]
  },
  {
   "cell_type": "code",
   "execution_count": null,
   "metadata": {},
   "outputs": [],
   "source": [
    "def binary_search(arr,value):\n",
    "    left = 0\n",
    "    right = len(arr) - 1\n",
    "    while(left <= right):\n",
    "        mid = (left + right) // 2\n",
    "        if arr[mid] is value:\n",
    "            return mid\n",
    "        elif value < arr[mid]:\n",
    "            right = mid - 1\n",
    "        elif value > arr[mid]:\n",
    "            left = mid + 1\n",
    "\n",
    "    return -1\n",
    "\n",
    "        \n",
    "       "
   ]
  },
  {
   "cell_type": "code",
   "execution_count": null,
   "metadata": {},
   "outputs": [],
   "source": [
    "binary_search([2,24,45,56,89,23468] ,89)"
   ]
  },
  {
   "cell_type": "markdown",
   "metadata": {},
   "source": [
    "# Code to generate permutation of a list\n",
    "\n",
    "one permutation at a time memory efficient"
   ]
  },
  {
   "cell_type": "code",
   "execution_count": null,
   "metadata": {},
   "outputs": [],
   "source": [
    "def perm(lst):\n",
    "    if len(lst)==0:\n",
    "        yield []\n",
    "        \n",
    "    elif len(lst)==1:\n",
    "        yield lst\n",
    "        \n",
    "    else:\n",
    "        for i in range(len(lst)):\n",
    "            \n",
    "            \n",
    "            x = lst[i]\n",
    "            xs = lst[:i] + lst[i+1:]\n",
    "            for p in perm(xs):\n",
    "                yield [x]+p"
   ]
  },
  {
   "cell_type": "code",
   "execution_count": null,
   "metadata": {},
   "outputs": [],
   "source": [
    "for p in perm([\"abc\" , \"abs\" , 'a']):\n",
    "    print(p)"
   ]
  },
  {
   "cell_type": "markdown",
   "metadata": {},
   "source": [
    "## Most efficient algo for GCD"
   ]
  },
  {
   "cell_type": "code",
   "execution_count": null,
   "metadata": {},
   "outputs": [],
   "source": [
    "def gcd(a ,b):\n",
    "    if b==0:\n",
    "        return a\n",
    "    r = a%b\n",
    "    return gcd(b , r)"
   ]
  },
  {
   "cell_type": "code",
   "execution_count": null,
   "metadata": {},
   "outputs": [],
   "source": [
    "gcd(3918848 , 1653264)"
   ]
  },
  {
   "cell_type": "markdown",
   "metadata": {},
   "source": [
    "### To check if number is power of 2 using binary operation"
   ]
  },
  {
   "cell_type": "code",
   "execution_count": null,
   "metadata": {},
   "outputs": [],
   "source": [
    "def is_power2(n):\n",
    "    \n",
    "    return bool(n and (not (n & n-1)))"
   ]
  },
  {
   "cell_type": "code",
   "execution_count": null,
   "metadata": {},
   "outputs": [],
   "source": [
    "display(is_power2(32))\n",
    "display(is_power2(29))"
   ]
  },
  {
   "cell_type": "markdown",
   "metadata": {},
   "source": [
    "## TO find longest subsequence in the given array using dynamic programming"
   ]
  },
  {
   "cell_type": "code",
   "execution_count": null,
   "metadata": {},
   "outputs": [],
   "source": [
    "def longest_subsequence(a):\n",
    "    \"\"\"This will return the longest \n",
    "    subsequence of a given array\n",
    "    and length of the array in form of tuple \n",
    "    (length , longest_array)\"\"\"\n",
    "    \n",
    "    l = len(a)\n",
    "    track = [1]*l\n",
    "    longest_seq = []\n",
    "    for i in range(1,l):\n",
    "        for j in range(i):\n",
    "            if a[j]<a[i]:\n",
    "                track[i]=max(track[i],track[j]+1)\n",
    "                \n",
    "    max_length = max(track)\n",
    "    value = max_length\n",
    "    while value>=1:\n",
    "        ind = (len(track) - 1 - track[::-1].index(value))\n",
    "        longest_seq.append(a[ind])\n",
    "        value-=1\n",
    "        del(track[ind:])\n",
    "    longest_seq.reverse()   \n",
    "    return (max_length ,longest_seq)  "
   ]
  },
  {
   "cell_type": "code",
   "execution_count": null,
   "metadata": {},
   "outputs": [],
   "source": [
    "display(longest_subsequence([1,5,6,2,3,8,7,6,2131,55,65,6,6]))\n",
    "display(longest_subsequence([1,45,65,89,23,41,35,6 , 56,21]))"
   ]
  },
  {
   "cell_type": "markdown",
   "metadata": {},
   "source": [
    "## Count number of ones present in a Binary representation of a number"
   ]
  },
  {
   "cell_type": "code",
   "execution_count": null,
   "metadata": {},
   "outputs": [],
   "source": [
    "def count_one(n):\n",
    "    count = 0\n",
    "    while(n):\n",
    "        n = n&(n-1)\n",
    "        count+=1\n",
    "    return count    \n",
    "    \n",
    "    "
   ]
  },
  {
   "cell_type": "code",
   "execution_count": null,
   "metadata": {},
   "outputs": [],
   "source": [
    "display(count_one(20))\n",
    "display(count_one(32))\n",
    "display(count_one(56))"
   ]
  },
  {
   "cell_type": "markdown",
   "metadata": {},
   "source": [
    "## To check if ith bit of a number is set or not(Startion from 0)"
   ]
  },
  {
   "cell_type": "code",
   "execution_count": null,
   "metadata": {},
   "outputs": [],
   "source": [
    "def check(n ,i):\n",
    "    if (n&(1<<i)):\n",
    "        return True\n",
    "    else:\n",
    "        return False"
   ]
  },
  {
   "cell_type": "code",
   "execution_count": null,
   "metadata": {},
   "outputs": [],
   "source": [
    "display(check(43,2))\n",
    "display(check(43 ,0))   # 43 = 101011\n",
    "display(check(43 ,4))"
   ]
  },
  {
   "cell_type": "code",
   "execution_count": null,
   "metadata": {},
   "outputs": [],
   "source": [
    "bin(43)  ## To convert into BInary"
   ]
  },
  {
   "cell_type": "code",
   "execution_count": null,
   "metadata": {},
   "outputs": [],
   "source": [
    "import math\n",
    "\n",
    "int(math.log(33,2)) # To find maximum power of 2 in a given number"
   ]
  },
  {
   "cell_type": "markdown",
   "metadata": {},
   "source": [
    "## To find all the prime number upto given number using most efficient algorithm              [here](https://www.geeksforgeeks.org/sieve-of-eratosthenes/)"
   ]
  },
  {
   "cell_type": "code",
   "execution_count": null,
   "metadata": {},
   "outputs": [],
   "source": [
    "def primes(n):\n",
    "    prime=[]\n",
    "    sieve = [True] * (n+1)\n",
    "    for p in range(2, n+1):\n",
    "        if (sieve[p]):\n",
    "            prime.append(p)\n",
    "            for i in range(p, n+1, p):\n",
    "                sieve[i] = False\n",
    "    return prime"
   ]
  },
  {
   "cell_type": "code",
   "execution_count": null,
   "metadata": {},
   "outputs": [],
   "source": [
    "display(primes(20))\n",
    "display(primes(50))"
   ]
  },
  {
   "cell_type": "markdown",
   "metadata": {},
   "source": [
    "## To find prefix sum of given array  \n",
    "[here](https://www.geeksforgeeks.org/prefix-sum-array-implementation-applications-competitive-programming/)"
   ]
  },
  {
   "cell_type": "code",
   "execution_count": null,
   "metadata": {},
   "outputs": [],
   "source": [
    "from itertools import accumulate \n",
    "  \n",
    "def cumulativeSum(input): \n",
    "      return list(accumulate(input))"
   ]
  },
  {
   "cell_type": "code",
   "execution_count": null,
   "metadata": {},
   "outputs": [],
   "source": [
    "display(cumulativeSum([1,0,0,0,1]))\n",
    "display(cumulativeSum([2,6,2,5,6,56,5,6,5,52,2,6,2,2,55,5]))"
   ]
  },
  {
   "cell_type": "markdown",
   "metadata": {},
   "source": [
    "## In python we can use list as stack Data Structure   fot more detail go here\n",
    "[here](https://docs.python.org/3/tutorial/datastructures.html)"
   ]
  },
  {
   "cell_type": "code",
   "execution_count": null,
   "metadata": {},
   "outputs": [],
   "source": [
    "stack =[5,9,11,10,45,12]"
   ]
  },
  {
   "cell_type": "code",
   "execution_count": null,
   "metadata": {},
   "outputs": [],
   "source": [
    "stack.pop() # Pop Operation in stack gives last entered item in the stack"
   ]
  },
  {
   "cell_type": "code",
   "execution_count": null,
   "metadata": {},
   "outputs": [],
   "source": [
    "stack"
   ]
  },
  {
   "cell_type": "code",
   "execution_count": null,
   "metadata": {},
   "outputs": [],
   "source": [
    "stack.append(15)  # Push operation adds item on the top of  stack"
   ]
  },
  {
   "cell_type": "code",
   "execution_count": null,
   "metadata": {},
   "outputs": [],
   "source": [
    "stack"
   ]
  },
  {
   "cell_type": "code",
   "execution_count": null,
   "metadata": {},
   "outputs": [],
   "source": [
    "stack.pop()"
   ]
  },
  {
   "cell_type": "markdown",
   "metadata": {},
   "source": [
    "# To calculate count of a particular value exist in how many range"
   ]
  },
  {
   "cell_type": "code",
   "execution_count": null,
   "metadata": {},
   "outputs": [],
   "source": [
    "def add_one_by_one(L):\n",
    "    \"\"\"This function returns prefix sum \"\"\"\n",
    "    new_L = list(L)\n",
    "    for i in range(1, len(new_L)):\n",
    "        new_L[i] += new_L[i-1]\n",
    "    return new_L\n",
    "\n",
    "def know_answer(l,r , value):\n",
    "    \"\"\"Takes range and value as input and return answer\"\"\"\n",
    "    n=len(l)\n",
    "    rng =[0]*(10**6+1)\n",
    "    for i in range(n):\n",
    "        rng[l[i]]+=1\n",
    "        rng[r[i]+1]-=1\n",
    "        \n",
    "    rng =add_one_by_one(rng)\n",
    "    \n",
    "    return (rng[value])"
   ]
  },
  {
   "cell_type": "code",
   "execution_count": null,
   "metadata": {},
   "outputs": [],
   "source": [
    "l=[1,5,6,6]\n",
    "r=[4,10,14,14]\n",
    "display(know_answer(l,r,8))\n",
    "display(know_answer(l,r,2))        "
   ]
  },
  {
   "cell_type": "markdown",
   "metadata": {},
   "source": [
    "## TO generate unique substrings of a given string"
   ]
  },
  {
   "cell_type": "code",
   "execution_count": null,
   "metadata": {},
   "outputs": [],
   "source": [
    "def unique_substring(s):\n",
    "    cur = set()\n",
    "    for i in range(len(s)):\n",
    "        for j in range(i + 1, len(s) + 1):\n",
    "            cur.add(s[i:j])\n",
    "    return (cur)"
   ]
  },
  {
   "cell_type": "code",
   "execution_count": null,
   "metadata": {},
   "outputs": [],
   "source": [
    "a=unique_substring('abcad')\n",
    "b=unique_substring(\"contests\")"
   ]
  },
  {
   "cell_type": "code",
   "execution_count": null,
   "metadata": {},
   "outputs": [],
   "source": [
    "display(a)"
   ]
  },
  {
   "cell_type": "code",
   "execution_count": null,
   "metadata": {},
   "outputs": [],
   "source": []
  }
 ],
 "metadata": {
  "kernelspec": {
   "display_name": "Python 3",
   "language": "python",
   "name": "python3"
  },
  "language_info": {
   "codemirror_mode": {
    "name": "ipython",
    "version": 3
   },
   "file_extension": ".py",
   "mimetype": "text/x-python",
   "name": "python",
   "nbconvert_exporter": "python",
   "pygments_lexer": "ipython3",
   "version": "3.6.6"
  }
 },
 "nbformat": 4,
 "nbformat_minor": 2
}
