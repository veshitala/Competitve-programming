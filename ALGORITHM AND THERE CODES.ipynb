{
 "cells": [
  {
   "cell_type": "code",
   "execution_count": 43,
   "metadata": {},
   "outputs": [],
   "source": [
    "from IPython.display import YouTubeVideo\n",
    "from collections import OrderedDict\n"
   ]
  },
  {
   "cell_type": "markdown",
   "metadata": {},
   "source": [
    "##  KADANE'S ALGO\n",
    "\n",
    "\n",
    "This algorithm is used to find maximum contagious subarray in given array"
   ]
  },
  {
   "cell_type": "code",
   "execution_count": 2,
   "metadata": {},
   "outputs": [
    {
     "data": {
      "image/jpeg": "[encoded data removed]",
      "text/html": [
       "\n",
       "        <iframe\n",
       "            width=\"700\"\n",
       "            height=\"400\"\n",
       "            src=\"https://www.youtube.com/embed/86CQq3pKSUw\"\n",
       "            frameborder=\"0\"\n",
       "            allowfullscreen\n",
       "        ></iframe>\n",
       "        "
      ],
      "text/plain": [
       "<IPython.lib.display.YouTubeVideo at 0x1d90d798ac8>"
      ]
     },
     "execution_count": 2,
     "metadata": {},
     "output_type": "execute_result"
    }
   ],
   "source": [
    "YouTubeVideo('86CQq3pKSUw' ,width=700 ,height=400)"
   ]
  },
  {
   "cell_type": "code",
   "execution_count": 127,
   "metadata": {},
   "outputs": [],
   "source": [
    "def kadane(a):\n",
    "    \n",
    "    \"\"\"This function will take an array as input and will return \n",
    "    maximum sum of contigious subarray in given array\"\"\"\n",
    "    \n",
    "    max_current = max_global = a[0]  # we've initialize maximum global and maximum current to first number of array\n",
    "    j = 0\n",
    "    subarray = []\n",
    "    glob_disc = {0 : a[0]}\n",
    "    for i in range(1 , len(a)):\n",
    "        max_current = max(a[i] , max_current + a[i])\n",
    "        \n",
    "        if max_current > max_global:\n",
    "            max_global = max_current\n",
    "            glob_disc.update({i : max_global})\n",
    "            \n",
    "\n",
    "        \n",
    "    \n",
    "    return max_global , glob_disc\n",
    "         \n",
    "    \n",
    "        \n",
    "        \n",
    "    "
   ]
  },
  {
   "cell_type": "code",
   "execution_count": 128,
   "metadata": {},
   "outputs": [
    {
     "data": {
      "text/plain": [
       "7"
      ]
     },
     "metadata": {},
     "output_type": "display_data"
    },
    {
     "data": {
      "text/plain": [
       "{0: -1, 2: 4, 6: 7}"
      ]
     },
     "metadata": {},
     "output_type": "display_data"
    }
   ],
   "source": [
    "l = [-1, -4 , 4 , -2 , 0 ,1 ,4 , -5]\n",
    "\n",
    "display(kadane(l)[0] ,kadane(l)[1])\n"
   ]
  },
  {
   "cell_type": "code",
   "execution_count": 129,
   "metadata": {},
   "outputs": [],
   "source": [
    "a = [4,-3,-2,2 ,3 ,1 ,-2 ,-3 ,4 ,2 ,-6 ,-3 ,-1 ,3 ,1 ,2]"
   ]
  },
  {
   "cell_type": "code",
   "execution_count": 130,
   "metadata": {},
   "outputs": [
    {
     "data": {
      "text/plain": [
       "7"
      ]
     },
     "metadata": {},
     "output_type": "display_data"
    },
    {
     "data": {
      "text/plain": [
       "{0: 4, 4: 5, 5: 6, 9: 7}"
      ]
     },
     "metadata": {},
     "output_type": "display_data"
    }
   ],
   "source": [
    "display(kadane(a)[0] ,kadane(a)[1])"
   ]
  },
  {
   "cell_type": "markdown",
   "metadata": {},
   "source": [
    "## Binary search\n"
   ]
  },
  {
   "cell_type": "code",
   "execution_count": 222,
   "metadata": {},
   "outputs": [],
   "source": [
    "def binary_search(arr,value):\n",
    "    left = 0\n",
    "    right = len(arr) - 1\n",
    "    while(left <= right):\n",
    "        mid = (left + right) // 2\n",
    "        if arr[mid] is value:\n",
    "            return mid\n",
    "        elif value < arr[mid]:\n",
    "            right = mid - 1\n",
    "        elif value > arr[mid]:\n",
    "            left = mid + 1\n",
    "\n",
    "    return -1\n",
    "\n",
    "        \n",
    "       "
   ]
  },
  {
   "cell_type": "code",
   "execution_count": 228,
   "metadata": {},
   "outputs": [
    {
     "data": {
      "text/plain": [
       "4"
      ]
     },
     "execution_count": 228,
     "metadata": {},
     "output_type": "execute_result"
    }
   ],
   "source": [
    "\n",
    "binary_search([2,24,45,56,89,23468] ,89)"
   ]
  }
 ],
 "metadata": {
  "kernelspec": {
   "display_name": "Python 3",
   "language": "python",
   "name": "python3"
  },
  "language_info": {
   "codemirror_mode": {
    "name": "ipython",
    "version": 3
   },
   "file_extension": ".py",
   "mimetype": "text/x-python",
   "name": "python",
   "nbconvert_exporter": "python",
   "pygments_lexer": "ipython3",
   "version": "3.6.5"
  }
 },
 "nbformat": 4,
 "nbformat_minor": 2
}
